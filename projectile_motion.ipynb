{
 "cells": [
  {
   "cell_type": "markdown",
   "metadata": {},
   "source": [
    "## Projectile motion\n",
    "\n",
    "The trajectory of an object in projectile motion can be described by \n",
    "\n",
    "$$ x = x_0 + v_{0x}t$$\n",
    "$$ y = y_0 + v_{0y}t + 0.5gt^2$$\n",
    "\n",
    "\n",
    "Which says that the object will move at constant velocity in the horizontal direction, but with acceleration vertically. \n",
    "\n",
    "In order to visualize this, we will use vpython. For that, first we want to import this library"
   ]
  },
  {
   "cell_type": "code",
   "execution_count": 5,
   "metadata": {
    "collapsed": false
   },
   "outputs": [],
   "source": [
    "from vpython import *\n",
    "import math"
   ]
  },
  {
   "cell_type": "markdown",
   "metadata": {},
   "source": [
    "Now, let's create a screen showing a ball of color red and initial position $x_0$, $y_0$"
   ]
  },
  {
   "cell_type": "code",
   "execution_count": 6,
   "metadata": {
    "collapsed": false
   },
   "outputs": [
    {
     "data": {
      "text/html": [
       "<div id=\"glowscript\" class=\"glowscript\"></div>"
      ],
      "text/plain": [
       "<IPython.core.display.HTML object>"
      ]
     },
     "metadata": {},
     "output_type": "display_data"
    },
    {
     "data": {
      "application/javascript": [
       "window.__context = { glowscript_container: $(\"#glowscript\").removeAttr(\"id\")}"
      ],
      "text/plain": [
       "<IPython.core.display.Javascript object>"
      ]
     },
     "metadata": {},
     "output_type": "display_data"
    }
   ],
   "source": [
    "#initial position\n",
    "\n",
    "x0 = -10.0\n",
    "y0 = 0.0\n",
    "\n",
    "#create canvas \"screen\"\n",
    "scene1 = canvas(title='Projectile motion demo', width=600, height=300, center = vec(0,0,0))\n",
    "\n",
    "\n",
    "#create ball\n",
    "ball = sphere(pos = vec(x0,y0,0), radius=1, color = color.red, make_trail = True, trail_type=\"points\")\n",
    "\n",
    "#initial velocities\n",
    "vx0 = 5.0\n",
    "vy0 = 5.0\n",
    "\n",
    "#define where the floor is\n",
    "floor = - 11.0 \n",
    "ball.velocity = vector(vx0,vy0,0)\n"
   ]
  },
  {
   "cell_type": "markdown",
   "metadata": {},
   "source": [
    "Then, we want to assign a small time step to see how the system evolves in time. And the system should evolve until the ball hits the floor"
   ]
  },
  {
   "cell_type": "code",
   "execution_count": 7,
   "metadata": {
    "collapsed": true
   },
   "outputs": [],
   "source": [
    "dt = 0.01\n",
    "t = dt\n",
    "\n",
    "while ball.pos.y > floor:\n",
    "    rate(100)\n",
    "    #note Projectile Motion equations are here! \n",
    "    ball.pos.x = x0 + vx0*t\n",
    "    ball.pos.y = y0 + vy0*t - 0.5*(9.8)*t**2\n",
    "    t = t+dt"
   ]
  },
  {
   "cell_type": "markdown",
   "metadata": {},
   "source": [
    "Look at the path the sphere followed. Is that what you where expecting to see? \n"
   ]
  },
  {
   "cell_type": "markdown",
   "metadata": {
    "collapsed": true
   },
   "source": [
    "### Air resistance\n",
    "\n",
    "Now, let's make a more realistic model. Assuming that the force caused by air resistance is directly proportional to projectile's velocity, with k retarding force constant. The motion is described by the following expressions   \n",
    "\n",
    "$$ x = x_0 + \\frac{v_{0x}}{k} \\left( 1 - e^{-kt} \\right)$$\n",
    "\n",
    "$$ y = y_0 + \\frac{-gt}{k} + \\frac{k v_{0y} + g}{k^2} \\left( 1- e^{-kt} \\right)$$\n",
    "\n",
    "Let's see how this looks like "
   ]
  },
  {
   "cell_type": "code",
   "execution_count": 14,
   "metadata": {
    "collapsed": false
   },
   "outputs": [
    {
     "data": {
      "text/html": [
       "<div id=\"glowscript\" class=\"glowscript\"></div>"
      ],
      "text/plain": [
       "<IPython.core.display.HTML object>"
      ]
     },
     "metadata": {},
     "output_type": "display_data"
    },
    {
     "data": {
      "application/javascript": [
       "window.__context = { glowscript_container: $(\"#glowscript\").removeAttr(\"id\")}"
      ],
      "text/plain": [
       "<IPython.core.display.Javascript object>"
      ]
     },
     "metadata": {},
     "output_type": "display_data"
    }
   ],
   "source": [
    "x0 = 10.0\n",
    "y0 = 0.0\n",
    "\n",
    "floor = -11.0\n",
    "\n",
    "scene2 = canvas(width=600, height=200, center = vec(0,0,0))\n",
    "\n",
    "#create 2 balls at the same initial position\n",
    "ball1 = sphere(pos = vec(x0,y0,0), radius=1, color = color.blue, make_trail = True, trail_type=\"points\")\n",
    "ball2 = sphere(pos = vec(x0,y0,0), radius=1, color = color.red, make_trail = True, trail_type=\"points\")\n",
    "\n",
    "#initial velocities\n",
    "vx0 = 5.0\n",
    "vy0 = 5.0\n",
    "\n",
    "ball1.velocity = vector(vx0, vy0, 0)\n",
    "ball2.velocity = vector(vx0, vy0, 0)\n",
    "\n",
    "k1 = 1.05\n",
    "k2 = 0.005\n",
    "\n",
    "dt = 0.01\n",
    "t = dt\n",
    "\n",
    "while ball1.pos.y > floor:\n",
    "    rate(100)\n",
    "    #note Projectile Motion equations are here! \n",
    "    ball1.pos.x = \n",
    "    ball1.pos.y = \n",
    "    t = t+dt\n",
    "    \n",
    "#t2 = dt    \n",
    "#while ball2.pos.y > floor:\n",
    " #    rate(100) \n",
    "  #   ball2.pos.x = \n",
    "   #  ball2.pos.y = \n",
    "    # t2 = t2+dt\n"
   ]
  },
  {
   "cell_type": "code",
   "execution_count": null,
   "metadata": {
    "collapsed": true
   },
   "outputs": [],
   "source": []
  }
 ],
 "metadata": {
  "kernelspec": {
   "display_name": "VPython",
   "language": "python",
   "name": "vpython"
  },
  "language_info": {
   "codemirror_mode": {
    "name": "ipython",
    "version": 2
   },
   "file_extension": ".py",
   "mimetype": "text/x-python",
   "name": "python",
   "nbconvert_exporter": "python",
   "pygments_lexer": "ipython2",
   "version": "2.7.13"
  }
 },
 "nbformat": 4,
 "nbformat_minor": 2
}
